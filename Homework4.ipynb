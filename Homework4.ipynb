{
 "cells": [
  {
   "cell_type": "markdown",
   "metadata": {},
   "source": [
    "**What does one need to do to use a module?**\n",
    "\n",
    "- first need to import the respective module into our code-base. by using the import statement\n",
    "\n",
    "**Name a Module (not the DateTime Nodule) we looked at and write a line or 2 of code as an example using this module**\n",
    "\n",
    "*import math*\n",
    "\n",
    "*print(\"Sum ...\", math.fsum([1.7, 0.3, 1.5, 4.5]))*\n",
    "\n",
    "**What is a benefit of using Exception handling?**\n",
    "\n",
    "- when an error is raised in the try block, the except block will be executed. Without the try block, the program will crash. With this code device we can keep going past many errors.\n",
    "\n",
    "**what are the 4 components used for Python Exception Handling?**\n",
    "\n",
    "- The `try` block lets you test a block of code for errors.\n",
    "\n",
    "- The `except` block lets you handle the error.\n",
    "\n",
    "- The `else` block lets you execute code when there is no error.\n",
    "\n",
    "- The `finally` block lets you execute code, regardless of the result of the try- and except blocks.\n",
    "\n",
    "**NumPy arrays are like what Python data type?**\n",
    "\n",
    "- <span style = 'color:red'> lists </span>\n",
    "\n",
    "**What is one of the main benefits of using NumPy arrays.**\n",
    "\n",
    "1. Occupy less memory \n",
    "2. Faster\n",
    "3. More convenient \n",
    "\n",
    "**What is one of the main requirements about the 'dtype' of NumPy arrays?**\n",
    "\n",
    "your data must be of one type\n",
    "\n",
    "**Of the 10 uses of NumPy, name 2.**\n",
    "\n",
    "Arithmetic operations, Statistical operations\n",
    "\n",
    "**Name one of the other libraries we'll use with NumPy?**\n",
    "\n",
    "#### Pandas\n",
    "\n",
    "**What is the shape of NumPy arrays?**\n",
    "\n",
    "a _**tuple** of non-negative integers_ that specify the dimensions, length and size of each array (3,2,4)\n",
    "\n",
    "**What is a Tensor?**\n",
    "\n",
    "an array with 3+ dimensions\n",
    "\n",
    "**Name a reason why it's better using  NumPy for Data Analysis than using a Python List?**\n",
    "\n",
    "1. Occupy less memory \n",
    "2. Faster\n",
    "3. More convenient \n",
    "\n",
    "**When creating an \"empty\" array, where do the elements come from?**\n",
    "\n",
    "Empty will fill in values based on memory"
   ]
  },
  {
   "cell_type": "markdown",
   "metadata": {},
   "source": [
    "#### Flow Control Methods:"
   ]
  },
  {
   "cell_type": "code",
   "execution_count": 52,
   "metadata": {},
   "outputs": [
    {
     "name": "stdout",
     "output_type": "stream",
     "text": [
      "Renting a car is more affordable\n"
     ]
    }
   ],
   "source": [
    "age = 25\n",
    "if age >= 25:\n",
    "    print(\"Renting a car is more affordable\")\n",
    "elif age < 25:\n",
    "    print(\"Renting a car is very expensive.\")\n"
   ]
  },
  {
   "cell_type": "code",
   "execution_count": 53,
   "metadata": {},
   "outputs": [
    {
     "name": "stdout",
     "output_type": "stream",
     "text": [
      "Renting a car is more affordable\n"
     ]
    }
   ],
   "source": [
    "age = 25\n",
    "if age >= 25:\n",
    "    print(\"Renting a car is more affordable\")\n",
    "elif age < 25 and age >= 18: \n",
    "    print(\"Renting a car is very expensive.\")\n",
    "elif age < 18:\n",
    "    print(\"You cannot legally rent a car.\")"
   ]
  },
  {
   "cell_type": "code",
   "execution_count": 54,
   "metadata": {},
   "outputs": [
    {
     "name": "stdout",
     "output_type": "stream",
     "text": [
      "43\n",
      "e\n",
      "u\n",
      "i\n",
      "o\n",
      "o\n",
      "u\n",
      "o\n",
      "e\n",
      "e\n",
      "a\n",
      "o\n"
     ]
    }
   ],
   "source": [
    "my_var = \"The quick brown fox jumps over the lazy dog\"\n",
    "print(len(my_var))\n",
    "\n",
    "vowels = (\"a\", \"e\", \"i\", \"o\", \"u\")\n",
    "for x in my_var:\n",
    "    if x in vowels:\n",
    "        print(x)"
   ]
  },
  {
   "cell_type": "code",
   "execution_count": 55,
   "metadata": {},
   "outputs": [
    {
     "name": "stdout",
     "output_type": "stream",
     "text": [
      "trousers aqua\n",
      "trousers auburn\n",
      "trousers maple\n",
      "trousers Dark Sapphire\n",
      "trousers fuchsia\n",
      "trousers cerise\n",
      "trousers gunmetal blue\n",
      "trousers burnt sienna\n",
      "blouse aqua\n",
      "blouse auburn\n",
      "blouse maple\n",
      "blouse Dark Sapphire\n",
      "blouse fuchsia\n",
      "blouse cerise\n",
      "blouse gunmetal blue\n",
      "blouse burnt sienna\n",
      "bandana aqua\n",
      "bandana auburn\n",
      "bandana maple\n",
      "bandana Dark Sapphire\n",
      "bandana fuchsia\n",
      "bandana cerise\n",
      "bandana gunmetal blue\n",
      "bandana burnt sienna\n",
      "cumber band aqua\n",
      "cumber band auburn\n",
      "cumber band maple\n",
      "cumber band Dark Sapphire\n",
      "cumber band fuchsia\n",
      "cumber band cerise\n",
      "cumber band gunmetal blue\n",
      "cumber band burnt sienna\n",
      "blazer aqua\n",
      "blazer auburn\n",
      "blazer maple\n",
      "blazer Dark Sapphire\n",
      "blazer fuchsia\n",
      "blazer cerise\n",
      "blazer gunmetal blue\n",
      "blazer burnt sienna\n",
      "vest aqua\n",
      "vest auburn\n",
      "vest maple\n",
      "vest Dark Sapphire\n",
      "vest fuchsia\n",
      "vest cerise\n",
      "vest gunmetal blue\n",
      "vest burnt sienna\n",
      "french beret aqua\n",
      "french beret auburn\n",
      "french beret maple\n",
      "french beret Dark Sapphire\n",
      "french beret fuchsia\n",
      "french beret cerise\n",
      "french beret gunmetal blue\n",
      "french beret burnt sienna\n",
      "scarf aqua\n",
      "scarf auburn\n",
      "scarf maple\n",
      "scarf Dark Sapphire\n",
      "scarf fuchsia\n",
      "scarf cerise\n",
      "scarf gunmetal blue\n",
      "scarf burnt sienna\n",
      "stole aqua\n",
      "stole auburn\n",
      "stole maple\n",
      "stole Dark Sapphire\n",
      "stole fuchsia\n",
      "stole cerise\n",
      "stole gunmetal blue\n",
      "stole burnt sienna\n"
     ]
    }
   ],
   "source": [
    "couture = [\"trousers\", \"blouse\", \"bandana\", \"cumber band\", \"blazer\", \"vest\", \"french beret\", \"scarf\", \"stole\"]\n",
    "panettone = {\"cerise\", \"fuchsia\", \"aqua\", \"maple\", \"auburn\", \"burnt sienna\", \"gunmetal blue\", \"Dark Sapphire\"}\n",
    "\n",
    "for x in couture:\n",
    "\tfor y in panettone:\n",
    "\t\tprint(x,y) "
   ]
  },
  {
   "cell_type": "code",
   "execution_count": 56,
   "metadata": {},
   "outputs": [
    {
     "name": "stdout",
     "output_type": "stream",
     "text": [
      "1\n",
      "3\n",
      "6\n",
      "10\n",
      "15\n",
      "21\n",
      "28\n",
      "36\n",
      "45\n",
      "55\n",
      "66\n",
      "78\n",
      "91\n",
      "105\n",
      "120\n",
      "136\n",
      "153\n",
      "171\n",
      "190\n",
      "210\n",
      "231\n",
      "253\n",
      "276\n",
      "300\n",
      "325\n",
      "351\n",
      "378\n",
      "406\n",
      "435\n",
      "465\n",
      "496\n",
      "528\n",
      "561\n",
      "595\n",
      "630\n",
      "666\n",
      "703\n",
      "741\n",
      "780\n",
      "820\n",
      "861\n",
      "903\n",
      "946\n",
      "990\n",
      "1035\n",
      "1081\n",
      "1128\n",
      "1176\n",
      "1225\n",
      "1275\n",
      "1326\n",
      "1378\n",
      "1431\n",
      "1485\n",
      "1540\n",
      "1596\n",
      "1653\n",
      "1711\n",
      "1770\n",
      "1830\n",
      "1891\n",
      "1953\n",
      "2016\n",
      "2080\n",
      "2145\n",
      "2211\n",
      "2278\n",
      "2346\n",
      "2415\n",
      "2485\n",
      "2556\n",
      "2628\n",
      "2701\n",
      "2775\n",
      "2850\n",
      "2926\n",
      "3003\n",
      "3081\n",
      "3160\n",
      "3240\n",
      "3321\n",
      "3403\n",
      "3486\n",
      "3570\n",
      "3655\n",
      "3741\n",
      "3828\n",
      "3916\n",
      "4005\n",
      "4095\n",
      "4186\n",
      "4278\n",
      "4371\n",
      "4465\n",
      "4560\n",
      "4656\n",
      "4753\n",
      "4851\n",
      "4950\n",
      "5050\n"
     ]
    }
   ],
   "source": [
    "sum = 0\n",
    "for numbers in range(1, 101):\n",
    "    sum = sum + numbers\n",
    "    print(sum)"
   ]
  },
  {
   "cell_type": "code",
   "execution_count": 57,
   "metadata": {},
   "outputs": [
    {
     "name": "stdout",
     "output_type": "stream",
     "text": [
      "banana\n",
      "['kiwi', 'lemon', 'cherry', 'orange']\n"
     ]
    }
   ],
   "source": [
    "# [\"apple\", \"banana\", \"cherry\"]\n",
    "\n",
    "fruits = [\"apple\", \"banana\", \"cherry\"]\n",
    "print(fruits[1])\n",
    "\n",
    "fruits[0] = \"kiwi\"\n",
    "\n",
    "fruits.append(\"orange\")\n",
    "\n",
    "fruits.insert(1, \"lemon\")\n",
    "\n",
    "fruits.remove(\"banana\")\n",
    "print(fruits)\n"
   ]
  },
  {
   "cell_type": "code",
   "execution_count": 79,
   "metadata": {},
   "outputs": [
    {
     "name": "stdout",
     "output_type": "stream",
     "text": [
      "['kiwi', 'melon']\n",
      "['cherry', 'orange', 'kiwi']\n",
      "7\n",
      "['mango', 'melon', 'kiwi', 'orange', 'cherry', 'banana', 'apple']\n"
     ]
    }
   ],
   "source": [
    "# [\"apple\", \"banana\", \"cherry\", \"orange\", \"kiwi\", \"melon\", \"mango\"]\n",
    "\n",
    "fruits2 = [\"apple\", \"banana\", \"cherry\", \"orange\", \"kiwi\", \"melon\", \"mango\"]\n",
    "\n",
    "print(fruits2[-3:-1])\n",
    "\n",
    "print(fruits2[2:5])\n",
    "\n",
    "print(len(fruits2))\n",
    "\n",
    "fruits2.reverse()\n",
    "print(fruits2)\n"
   ]
  },
  {
   "cell_type": "code",
   "execution_count": 81,
   "metadata": {},
   "outputs": [
    {
     "name": "stdout",
     "output_type": "stream",
     "text": [
      "2024-02-05 16:00:48.575102\n",
      "February\n"
     ]
    }
   ],
   "source": [
    "import datetime as dt\n",
    "\n",
    "Current = dt.datetime.now()\n",
    "print(Current)\n",
    "\n",
    "print(Current.strftime(\"%B\"))"
   ]
  },
  {
   "cell_type": "code",
   "execution_count": 20,
   "metadata": {},
   "outputs": [
    {
     "name": "stdout",
     "output_type": "stream",
     "text": [
      "Hi John ! Happy, Sunday !\n"
     ]
    }
   ],
   "source": [
    "# Write a simple function that takes 2 parameters -- a  first name and a day name.\n",
    "    # Set a default value for the day name of Sunday.\n",
    "    # Have the function print out a greeting -- using the parameters -- that says something like \"Hi first-name! Happy day-name!\". Remember to use the variables in the greeting to replace first-name and day-name.  \n",
    "    # Invoke this function with 2 variables.\n",
    "    # Invoke this function with 1 variable only.\n",
    "\n",
    "def my_function(fname, day):\n",
    "    print(\"Hi\", fname,\"!\",\"Happy,\", day, \"!\")\n",
    "\n",
    "my_function(\"John\", \"Sunday\")\n",
    "\n",
    "    "
   ]
  }
 ],
 "metadata": {
  "kernelspec": {
   "display_name": "Python 3",
   "language": "python",
   "name": "python3"
  },
  "language_info": {
   "codemirror_mode": {
    "name": "ipython",
    "version": 3
   },
   "file_extension": ".py",
   "mimetype": "text/x-python",
   "name": "python",
   "nbconvert_exporter": "python",
   "pygments_lexer": "ipython3",
   "version": "3.12.2"
  }
 },
 "nbformat": 4,
 "nbformat_minor": 2
}
