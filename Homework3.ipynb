{
 "cells": [
  {
   "cell_type": "markdown",
   "metadata": {},
   "source": [
    "#### Data Types:"
   ]
  },
  {
   "cell_type": "markdown",
   "metadata": {},
   "source": [
    "1. What is an algorithm?  \n",
    "    **An algorithm is a series of steps to solve a problem at hand**\n",
    "2. Variable names may not start with certain characters - name two.\n",
    "    <span style = 'background:yellow'> Numbers and Symbols </span>\n",
    "3. What is a Semantic error?\n",
    "    _code is grammatically correct but doesn't make any sense; it does not produce the expected results_\n",
    "4. What is the #1 rule of coding / debugging?\n",
    "    <span style = 'color:blue'> The #1 Rule: Complexity is the enemy of efficiency! </span>\n",
    "5. List 5 Python reserved words.\n",
    "    - False\n",
    "    - True\n",
    "    - None\n",
    "    - and\n",
    "    - or\n",
    "\n"
   ]
  },
  {
   "cell_type": "code",
   "execution_count": 1,
   "metadata": {},
   "outputs": [
    {
     "name": "stdout",
     "output_type": "stream",
     "text": [
      "My name is Shafi.\n",
      "I don't have a favorite food.\n",
      "My dream job is anything that involves helping people.\n"
     ]
    }
   ],
   "source": [
    "# Write a multi-line comment with your name, favorite food, and dream job on 3 different lines\n",
    "\n",
    "about_me = \"\"\"My name is Shafi.\n",
    "I don't have a favorite food.\n",
    "My dream job is anything that involves helping people.\"\"\"\n",
    "\n",
    "print(about_me)\n"
   ]
  },
  {
   "cell_type": "code",
   "execution_count": 2,
   "metadata": {},
   "outputs": [
    {
     "name": "stdout",
     "output_type": "stream",
     "text": [
      "17\n",
      "l\n"
     ]
    }
   ],
   "source": [
    "# Assign 5 different data types to 5 different variables. At least one datatype must be a string  \n",
    "string = \"Hello SavvyCoders\"\n",
    "integer = 10\n",
    "float = 10.5\n",
    "list = [\"chair\", \"table\", \"cup\"]\n",
    "tuple = (\"chair\", \"table\", \"cup\")\n",
    "\n",
    "print(len(string))\n",
    "print(string[3])"
   ]
  },
  {
   "cell_type": "code",
   "execution_count": 3,
   "metadata": {},
   "outputs": [
    {
     "name": "stdout",
     "output_type": "stream",
     "text": [
      "ing Data Analytics \n",
      "Learning Data Analytics and Python is great!\n",
      "yes\n"
     ]
    }
   ],
   "source": [
    "# Create a new variable called savvy, and assign it the string with this phrase \"Learning Data Analytics and Python is Awesome!\"\n",
    "\n",
    "savvy = \"Learning Data Analytics and Python is Awesome!\"\n",
    "\n",
    "print(savvy[5:24])\n",
    "\n",
    "print(savvy.replace(\"Awesome\", \"great\"))\n",
    "\n",
    "if \"Python\" in savvy :\n",
    "    print(\"yes\")\n",
    "else: \n",
    "    print(\"no\")\n"
   ]
  },
  {
   "cell_type": "code",
   "execution_count": 1,
   "metadata": {},
   "outputs": [
    {
     "name": "stdout",
     "output_type": "stream",
     "text": [
      "Hi my name is John, I am 6 feet and 30 years old today.\n",
      "30.0\n"
     ]
    }
   ],
   "source": [
    "# Create and assign 3 more variables called name, age and length using the multi-variable  naming method\n",
    "\n",
    "name, tall, age = \"John\", \"6 feet\", 30\n",
    "\n",
    "miniBio = f\"Hi my name is {name}, I am {tall} and {age} years old today.\"\n",
    "\n",
    "print(miniBio)\n",
    "\n",
    "print(float(age))\n"
   ]
  },
  {
   "cell_type": "markdown",
   "metadata": {},
   "source": [
    "\n",
    "    - Format a new string called 'miniBio' using variables in curly brackets to complete this phrase... \"Hi my name is (name), I am (tall) and (so) old today.\"\n",
    "    - Print 'miniBio'\n",
    "    - Cast and print the age variable to a float"
   ]
  },
  {
   "cell_type": "markdown",
   "metadata": {},
   "source": [
    "#### Complex Data Types:"
   ]
  },
  {
   "cell_type": "code",
   "execution_count": 26,
   "metadata": {},
   "outputs": [
    {
     "name": "stdout",
     "output_type": "stream",
     "text": [
      "8\n",
      "['January', 'Banana', 100]\n",
      "[1, 2, 3, 4, 5]\n",
      "[1, 2, 3, 4, 5, 1, 2, 3, 4, 5]\n"
     ]
    }
   ],
   "source": [
    "# Create a list of at least 5 elements of mixed data types\n",
    "\n",
    "my_list = [\"Alabama\", \"Chicago\", 913, 98.6, \"Tiger\"]\n",
    "\n",
    "my_list[2] = 816\n",
    "\n",
    "my_list.append(\"January\")\n",
    "my_list.append(\"Banana\")\n",
    "my_list.append(100)\n",
    "\n",
    "print(len(my_list))\n",
    "\n",
    "second_list = my_list[-3:]\n",
    "print(second_list)\n",
    "\n",
    "my_list.extend(second_list)\n",
    "\n",
    "simList = [3, 2, 5, 1, 4]\n",
    "simList.sort()\n",
    "print(simList)\n",
    "\n",
    "simListCopy = simList.copy()\n",
    "\n",
    "Fourth_List = simList + simListCopy\n",
    "print(Fourth_List)\n",
    "\n"
   ]
  },
  {
   "cell_type": "code",
   "execution_count": 53,
   "metadata": {},
   "outputs": [
    {
     "name": "stdout",
     "output_type": "stream",
     "text": [
      "20\n",
      "[10, 10, 10, 20, 20, 20, 30, 30, 30, 40, 40, 40, 50, 50, 50]\n",
      "20\n",
      "30\n",
      "40\n",
      "50\n",
      "50\n",
      "(10, 20, 30, 40, 50, 10, 20, 30, 40, 50, 10, 20, 30, 40, 50, 20, 30, 40, 50)\n"
     ]
    }
   ],
   "source": [
    "# Create a tuple of about 5 elements\n",
    "\n",
    "tuple1 = 10, 20, 30, 40, 50\n",
    "tuple2 = tuple1 * 3\n",
    "print(tuple2[11])\n",
    "\n",
    "print(sorted(tuple2))\n",
    "\n",
    "one = tuple2[1]\n",
    "two = tuple2[2]\n",
    "three = tuple2[3]\n",
    "four = tuple2[4]\n",
    "\n",
    "tuple3 = (one, two, three, four)\n",
    "\n",
    "print(one)\n",
    "print(two)\n",
    "print(three)\n",
    "print(four)\n",
    "\n",
    "tuple4 = (50)\n",
    "print(tuple4)\n",
    "\n",
    "tuple5 = tuple2 + tuple3\n",
    "print(tuple5)"
   ]
  },
  {
   "cell_type": "code",
   "execution_count": 66,
   "metadata": {},
   "outputs": [
    {
     "name": "stdout",
     "output_type": "stream",
     "text": [
      "{'chair', 'table', 'banana', 'cherry', 'apple', 'lamp'}\n",
      "{'joy', 'anger'}\n",
      "set()\n",
      "{'banana', 'lamp', 'anger', 'cherry', 'shock', 'Honda', 'apple', 'joy'}\n"
     ]
    }
   ],
   "source": [
    "# Create a set of about 3 elements\n",
    "\n",
    "set1 = {\"table\", \"chair\", \"lamp\"}\n",
    "fruitset = {\"apple\", \"banana\", \"cherry\"}\n",
    "\n",
    "set1.update(fruitset)\n",
    "print(set1)\n",
    "\n",
    "set1.add(\"Honda\")\n",
    "\n",
    "set2 = {\"anger\", \"joy\", \"shock\"}\n",
    "\n",
    "set3 = set2.union(set1)\n",
    "\n",
    "set2.pop()\n",
    "print(set2)\n",
    "\n",
    "set1.clear()\n",
    "print(set1)\n",
    "\n",
    "set3.discard(\"chair\")\n",
    "set3.remove(\"table\")\n",
    "print(set3)\n"
   ]
  },
  {
   "cell_type": "code",
   "execution_count": 79,
   "metadata": {},
   "outputs": [
    {
     "name": "stdout",
     "output_type": "stream",
     "text": [
      "Curry\n",
      "dict_keys(['SG', 'SF', 'PG', 'C', 'PF', 'color', 'Seasons'])\n",
      "dict_values(['Jordan', 'LeBron', 'Shafi', 'Olajuwon', 'Duncan', 'bluegreen', 'Winter, Summer, Fall, Spring'])\n",
      "{'SG': 'Jordan', 'SF': 'LeBron', 'PG': 'Shafi', 'C': 'Olajuwon', 'PF': 'Duncan', 'Seasons': 'Winter, Summer, Fall, Spring'}\n",
      "{}\n"
     ]
    }
   ],
   "source": [
    "# Create a dictionary with at least 5 values of different data types\n",
    "\n",
    "dict = {\"SG\":\"Jordan\", \"SF\":\"LeBron\", \"PG\":\"Curry\", \"C\":\"Olajuwon\", \"PF\":\"Duncan\"}\n",
    "\n",
    "print(dict[\"PG\"])\n",
    "dict.update({\"PG\":\"Shafi\"})\n",
    "\n",
    "dict.update({\"color\":\"bluegreen\"})\n",
    "\n",
    "dict.update({\"Seasons\":\"Winter, Summer, Fall, Spring\"})\n",
    "\n",
    "print(dict.keys())\n",
    "print(dict.values())\n",
    "\n",
    "dict2 = dict.copy()\n",
    "\n",
    "dict2.pop(\"color\")\n",
    "print(dict2)\n",
    "\n",
    "dict2.clear()\n",
    "print(dict2)\n"
   ]
  }
 ],
 "metadata": {
  "kernelspec": {
   "display_name": "Python 3",
   "language": "python",
   "name": "python3"
  },
  "language_info": {
   "codemirror_mode": {
    "name": "ipython",
    "version": 3
   },
   "file_extension": ".py",
   "mimetype": "text/x-python",
   "name": "python",
   "nbconvert_exporter": "python",
   "pygments_lexer": "ipython3",
   "version": "3.12.2"
  }
 },
 "nbformat": 4,
 "nbformat_minor": 2
}
